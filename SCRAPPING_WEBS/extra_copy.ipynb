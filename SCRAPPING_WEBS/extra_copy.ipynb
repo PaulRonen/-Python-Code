{
 "cells": [
  {
   "cell_type": "code",
   "execution_count": 3,
   "metadata": {},
   "outputs": [],
   "source": [
    "from selenium import webdriver\n",
    "from webdriver_manager.chrome import ChromeDriverManager"
   ]
  },
  {
   "cell_type": "code",
   "execution_count": 4,
   "metadata": {},
   "outputs": [
    {
     "name": "stderr",
     "output_type": "stream",
     "text": [
      "\n",
      "\n",
      "====== WebDriver manager ======\n",
      "Current google-chrome version is 95.0.4638\n",
      "Get LATEST chromedriver version for 95.0.4638 google-chrome\n",
      "Trying to download new driver from https://chromedriver.storage.googleapis.com/95.0.4638.69/chromedriver_win32.zip\n",
      "Driver has been saved in cache [C:\\Users\\Paul.Ronen\\.wdm\\drivers\\chromedriver\\win32\\95.0.4638.69]\n",
      "C:\\Users\\PAUL~1.RON\\AppData\\Local\\Temp/ipykernel_7396/1503906442.py:1: DeprecationWarning: executable_path has been deprecated, please pass in a Service object\n",
      "  driver = webdriver.Chrome(ChromeDriverManager().install())\n"
     ]
    }
   ],
   "source": [
    "driver = webdriver.Chrome(ChromeDriverManager().install())"
   ]
  },
  {
   "cell_type": "code",
   "execution_count": 5,
   "metadata": {},
   "outputs": [],
   "source": [
    "def get_fkrt_addr(query = 'bags',start_pos =1):\n",
    "    url = 'https://www.flipkart.com/search'\n",
    "    param1 = f'q={query}'\n",
    "    param2= f'page = {start_pos}'\n",
    "    return f'{url}?{param1}&{param2}'"
   ]
  },
  {
   "cell_type": "code",
   "execution_count": 6,
   "metadata": {},
   "outputs": [],
   "source": [
    "driver.get(get_fkrt_addr('watches'))\n"
   ]
  },
  {
   "cell_type": "code",
   "execution_count": 7,
   "metadata": {},
   "outputs": [
    {
     "name": "stderr",
     "output_type": "stream",
     "text": [
      "C:\\Users\\PAUL~1.RON\\AppData\\Local\\Temp/ipykernel_7396/501318195.py:1: DeprecationWarning: find_elements_by_* commands are deprecated. Please use find_elements() instead\n",
      "  headings = driver.find_elements_by_css_selector(\"div._2WkVRV\")\n"
     ]
    },
    {
     "name": "stdout",
     "output_type": "stream",
     "text": [
      "CASADO\n",
      "SWADESI STUFF\n",
      "Blue Pearl\n",
      "SKMEI\n",
      "CRAB\n",
      "ALOGO\n",
      "hrnt\n",
      "ANALOGUE\n",
      "Rizzly\n",
      "FOXTER\n",
      "EDDY HAGER\n",
      "PIRASO\n",
      "LOIS CARON\n",
      "hala\n",
      "ANALOGUE\n",
      "PIRASO\n",
      "hala\n",
      "CRAB\n",
      "SKMEI\n",
      "CASADO\n",
      "Happy Khajana\n",
      "WHITE STONE\n",
      "FOXTER\n",
      "Fastrack\n",
      "hala\n",
      "Fogg\n",
      "Rizzly\n",
      "ANALOGUE\n",
      "EDDY HAGER\n",
      "Varni Fashion\n",
      "SSA\n",
      "LOIS CARON\n",
      "SKMEI\n",
      "Rage Enterprise\n",
      "LIMESTONE\n",
      "POLO HUNTER\n",
      "Fogg\n",
      "MIKADO\n",
      "LIMESTONE\n",
      "LOIS CARON\n"
     ]
    }
   ],
   "source": [
    "headings = driver.find_elements_by_css_selector(\"div._2WkVRV\")\n",
    "for h in headings:print(h.text)"
   ]
  },
  {
   "cell_type": "code",
   "execution_count": 8,
   "metadata": {},
   "outputs": [
    {
     "data": {
      "text/plain": [
       "40"
      ]
     },
     "execution_count": 8,
     "metadata": {},
     "output_type": "execute_result"
    }
   ],
   "source": [
    "#actul code\n",
    "len(headings)"
   ]
  },
  {
   "cell_type": "code",
   "execution_count": null,
   "metadata": {},
   "outputs": [],
   "source": [
    "\n",
    "\n",
    "        "
   ]
  },
  {
   "cell_type": "code",
   "execution_count": 9,
   "metadata": {},
   "outputs": [
    {
     "name": "stderr",
     "output_type": "stream",
     "text": [
      "C:\\Users\\PAUL~1.RON\\AppData\\Local\\Temp/ipykernel_7396/3196122797.py:3: DeprecationWarning: find_elements_by_* commands are deprecated. Please use find_elements() instead\n",
      "  cards = driver.find_elements_by_css_selector('div.__312yBx.SFzpgZ')\n"
     ]
    }
   ],
   "source": [
    "#actual code\n",
    "data = []\n",
    "cards = driver.find_elements_by_css_selector('div.__312yBx.SFzpgZ')\n",
    "if len(cards)>0:\n",
    "    for item in cards:\n",
    "        brand = item.find_elements_by_css_selector('div._2WkVRV').text,\n",
    "        title = item.find_elements_by_css_selector('a.IRpwTa').text,\n",
    "        price = item.find_elements_by_css_selector('div._30jeq3').text\n",
    "        print(brand,title,price)"
   ]
  },
  {
   "cell_type": "code",
   "execution_count": null,
   "metadata": {},
   "outputs": [],
   "source": []
  },
  {
   "cell_type": "code",
   "execution_count": null,
   "metadata": {},
   "outputs": [],
   "source": []
  }
 ],
 "metadata": {
  "interpreter": {
   "hash": "f9795a2aa9611cf4f214fbc2e314080d1145009d1580254edbd83e291ec5d055"
  },
  "kernelspec": {
   "display_name": "Python 3.9.7 64-bit",
   "language": "python",
   "name": "python3"
  },
  "language_info": {
   "codemirror_mode": {
    "name": "ipython",
    "version": 3
   },
   "file_extension": ".py",
   "mimetype": "text/x-python",
   "name": "python",
   "nbconvert_exporter": "python",
   "pygments_lexer": "ipython3",
   "version": "3.9.7"
  },
  "orig_nbformat": 4
 },
 "nbformat": 4,
 "nbformat_minor": 2
}
