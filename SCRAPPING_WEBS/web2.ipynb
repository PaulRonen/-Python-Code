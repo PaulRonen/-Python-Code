{
 "cells": [
  {
   "cell_type": "code",
   "execution_count": 9,
   "metadata": {},
   "outputs": [],
   "source": [
    "from selenium import webdriver\n",
    "from webdriver_manager.chrome import ChromeDriverManager"
   ]
  },
  {
   "cell_type": "code",
   "execution_count": 10,
   "metadata": {},
   "outputs": [
    {
     "name": "stderr",
     "output_type": "stream",
     "text": [
      "\n",
      "\n",
      "====== WebDriver manager ======\n",
      "Current google-chrome version is 95.0.4638\n",
      "Get LATEST chromedriver version for 95.0.4638 google-chrome\n",
      "Driver [C:\\Users\\Paul.Ronen\\.wdm\\drivers\\chromedriver\\win32\\95.0.4638.69\\chromedriver.exe] found in cache\n",
      "C:\\Users\\PAUL~1.RON\\AppData\\Local\\Temp/ipykernel_5512/1503906442.py:1: DeprecationWarning: executable_path has been deprecated, please pass in a Service object\n",
      "  driver = webdriver.Chrome(ChromeDriverManager().install())\n"
     ]
    }
   ],
   "source": [
    "driver = webdriver.Chrome(ChromeDriverManager().install())"
   ]
  },
  {
   "cell_type": "markdown",
   "metadata": {},
   "source": [
    "# Flipkart Scrapper\n"
   ]
  },
  {
   "cell_type": "code",
   "execution_count": 11,
   "metadata": {},
   "outputs": [],
   "source": [
    "def get_fkrt_addr(query = 'bags',start_pos =1):\n",
    "    url = 'https://www.flipkart.com/search'\n",
    "    param1 = f'q={query}'\n",
    "    param2= f'page = {start_pos}'\n",
    "    return f'{url}?{param1}&{param2}'"
   ]
  },
  {
   "cell_type": "markdown",
   "metadata": {},
   "source": []
  },
  {
   "cell_type": "code",
   "execution_count": 12,
   "metadata": {},
   "outputs": [],
   "source": [
    "driver.get(get_fkrt_addr('watches'))"
   ]
  },
  {
   "cell_type": "code",
   "execution_count": 13,
   "metadata": {},
   "outputs": [
    {
     "name": "stderr",
     "output_type": "stream",
     "text": [
      "C:\\Users\\PAUL~1.RON\\AppData\\Local\\Temp/ipykernel_5512/501318195.py:1: DeprecationWarning: find_elements_by_* commands are deprecated. Please use find_elements() instead\n",
      "  headings = driver.find_elements_by_css_selector(\"div._2WkVRV\")\n"
     ]
    },
    {
     "name": "stdout",
     "output_type": "stream",
     "text": [
      "SWADESI STUFF\n",
      "Fastrack\n",
      "Blue Pearl\n",
      "CRAB\n",
      "ALOGO\n",
      "hrnt\n",
      "Rizzly\n",
      "CASADO\n",
      "SKMEI\n",
      "EDDY HAGER\n",
      "FOXTER\n",
      "SWADESI STUFF\n",
      "LOIS CARON\n",
      "hala\n",
      "ANALOGUE\n",
      "LOIS CARON\n",
      "hala\n",
      "CRAB\n",
      "SKMEI\n",
      "LOIS CARON\n",
      "FOXTER\n",
      "WHITE STONE\n",
      "hala\n",
      "LOIS CARON\n",
      "Happy Khajana\n",
      "Fogg\n",
      "Rizzly\n",
      "TIMEWEAR\n",
      "EDDY HAGER\n",
      "Varni Fashion\n",
      "SSA\n",
      "LOIS CARON\n",
      "LIMESTONE\n",
      "Rage Enterprise\n",
      "Fogg\n",
      "Rizzly\n",
      "LIMESTONE\n",
      "MIKADO\n",
      "just like\n",
      "LIMESTONE\n"
     ]
    }
   ],
   "source": [
    "headings = driver.find_elements_by_css_selector(\"div._2WkVRV\")\n",
    "for h in headings:print(h.text)"
   ]
  },
  {
   "cell_type": "code",
   "execution_count": 14,
   "metadata": {},
   "outputs": [
    {
     "data": {
      "text/plain": [
       "40"
      ]
     },
     "execution_count": 14,
     "metadata": {},
     "output_type": "execute_result"
    }
   ],
   "source": [
    "#actul code\n",
    "len(headings)"
   ]
  },
  {
   "cell_type": "code",
   "execution_count": 15,
   "metadata": {},
   "outputs": [
    {
     "name": "stdout",
     "output_type": "stream",
     "text": [
      "[]\n"
     ]
    },
    {
     "name": "stderr",
     "output_type": "stream",
     "text": [
      "C:\\Users\\PAUL~1.RON\\AppData\\Local\\Temp/ipykernel_5512/1051534426.py:3: DeprecationWarning: find_elements_by_* commands are deprecated. Please use find_elements() instead\n",
      "  cards = driver.find_elements_by_css_selector('div._312yBx._SFzpgZ')\n"
     ]
    }
   ],
   "source": [
    "#actual code\n",
    "data = []\n",
    "cards = driver.find_elements_by_css_selector('div._312yBx._SFzpgZ')\n",
    "if len(cards)>0:\n",
    "    for item in cards:\n",
    "        brand = item.find_elements_by_css_selector('div._2WkVRV').text,\n",
    "        title = item.find_elements_by_css_selector('a.IRpwTa').text,\n",
    "        price = item.find_elements_by_css_selector('div._30jeq3').text\n",
    "        print(brand,title,price)\n",
    "else:\n",
    "    print(cards)\n"
   ]
  },
  {
   "cell_type": "code",
   "execution_count": null,
   "metadata": {},
   "outputs": [],
   "source": [
    "\n",
    "\n",
    "def get_flipkart_data(search = 'bags',pos = 1,):\n",
    "    all_data= [] \n",
    "    while True:\n",
    "        addr = get_fkrt_addr(search, pos)\n",
    "        driver.get(addr)\n",
    "        data = extract_page_data(driver)\n",
    "        if len(data):\n",
    "            all_data.extend(data)\n",
    "            pos += 1\n",
    "        else:\n",
    "            break\n",
    "    return all_data\n",
    "\n"
   ]
  },
  {
   "cell_type": "code",
   "execution_count": null,
   "metadata": {},
   "outputs": [],
   "source": []
  }
 ],
 "metadata": {
  "interpreter": {
   "hash": "f9795a2aa9611cf4f214fbc2e314080d1145009d1580254edbd83e291ec5d055"
  },
  "kernelspec": {
   "display_name": "Python 3.9.7 64-bit",
   "language": "python",
   "name": "python3"
  },
  "language_info": {
   "codemirror_mode": {
    "name": "ipython",
    "version": 3
   },
   "file_extension": ".py",
   "mimetype": "text/x-python",
   "name": "python",
   "nbconvert_exporter": "python",
   "pygments_lexer": "ipython3",
   "version": "3.9.7"
  },
  "orig_nbformat": 4
 },
 "nbformat": 4,
 "nbformat_minor": 2
}
